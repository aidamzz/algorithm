{
 "cells": [
  {
   "cell_type": "code",
   "execution_count": 1,
   "metadata": {},
   "outputs": [
    {
     "name": "stdout",
     "output_type": "stream",
     "text": [
      "2\n",
      "-3\n",
      "1\n",
      "-3\n",
      "2\n"
     ]
    }
   ],
   "source": [
    "\n",
    "\n",
    "\n",
    "result = []\n",
    "n = int(input())\n",
    "for i in range(n):\n",
    "    pattern = [1, -3, 2, -2]\n",
    "    \n",
    "    index_needed = int(input())\n",
    "    if index_needed == 1:\n",
    "        result.append(2)\n",
    "    else:\n",
    "    # Calculate how many repetitions are needed to have at least 1402 elements\n",
    "        repetitions_needed = (index_needed // len(pattern)) + 1\n",
    "    # Generate the list\n",
    "        results = pattern * repetitions_needed\n",
    "        result.append(results[index_needed-2])\n",
    "\n",
    "\n",
    "for i in result:\n",
    "    print(i)"
   ]
  },
  {
   "cell_type": "code",
   "execution_count": 3,
   "metadata": {},
   "outputs": [
    {
     "name": "stdout",
     "output_type": "stream",
     "text": [
      "2\n",
      "-3\n",
      "1\n",
      "-3\n",
      "2\n"
     ]
    }
   ],
   "source": [
    "result = []\n",
    "\n",
    "n = int(input())\n",
    "for _ in range(n):\n",
    "    index_needed = int(input())\n",
    "    if index_needed == 1:\n",
    "        result.append(2)\n",
    "    else:\n",
    "        # Calculate the index within the pattern\n",
    "        index_within_pattern = (index_needed - 2) % 4\n",
    "        # Retrieve the corresponding element from the pattern\n",
    "        result.append([1, -3, 2, -2][index_within_pattern])\n",
    "\n",
    "for i in result:\n",
    "    print(i)"
   ]
  },
  {
   "cell_type": "code",
   "execution_count": 4,
   "metadata": {},
   "outputs": [
    {
     "name": "stdout",
     "output_type": "stream",
     "text": [
      "0 0 1.6666666666666667\n",
      "0 0 3.3333333333333335\n"
     ]
    }
   ],
   "source": [
    "def cake_cutting(m, a, b, c):\n",
    "    # Calculate the total volume of the cake\n",
    "    total_volume = a * b * c\n",
    "    \n",
    "    # Calculate the volume of each piece\n",
    "    piece_volume = total_volume / m\n",
    "    \n",
    "    # Calculate the lengths of the pieces in each dimension\n",
    "    length_x = a\n",
    "    length_y = b\n",
    "    length_z = c / m\n",
    "    \n",
    "    # Initialize the list to store cutting points\n",
    "    cutting_points = []\n",
    "    \n",
    "    # Calculate the cutting points in the z dimension\n",
    "    for i in range(1, m):\n",
    "        z_cut = i * length_z\n",
    "        cutting_points.append((0, 0, z_cut))\n",
    "    \n",
    "    return cutting_points\n",
    "\n",
    "# Input\n",
    "m = int(input())\n",
    "a, b, c = map(int, input().split())\n",
    "\n",
    "# Generate cutting points\n",
    "cutting_points = cake_cutting(m, a, b, c)\n",
    "\n",
    "# Output cutting points\n",
    "for cut_point in cutting_points:\n",
    "    print(*cut_point)\n"
   ]
  },
  {
   "cell_type": "code",
   "execution_count": 7,
   "metadata": {},
   "outputs": [
    {
     "ename": "TypeError",
     "evalue": "unsupported operand type(s) for +: 'int' and 'tuple'",
     "output_type": "error",
     "traceback": [
      "\u001b[1;31m---------------------------------------------------------------------------\u001b[0m",
      "\u001b[1;31mTypeError\u001b[0m                                 Traceback (most recent call last)",
      "Cell \u001b[1;32mIn [7], line 25\u001b[0m\n\u001b[0;32m     22\u001b[0m num_people \u001b[38;5;241m=\u001b[39m \u001b[38;5;241m3\u001b[39m\n\u001b[0;32m     24\u001b[0m \u001b[38;5;66;03m# Cut the cakes for 3 people\u001b[39;00m\n\u001b[1;32m---> 25\u001b[0m distribution \u001b[38;5;241m=\u001b[39m \u001b[43mcut_cake_for_people\u001b[49m\u001b[43m(\u001b[49m\u001b[43mcake_dimensions\u001b[49m\u001b[43m,\u001b[49m\u001b[43m \u001b[49m\u001b[43mchocolate_pieces\u001b[49m\u001b[43m,\u001b[49m\u001b[43m \u001b[49m\u001b[43mnum_people\u001b[49m\u001b[43m)\u001b[49m\n\u001b[0;32m     26\u001b[0m \u001b[38;5;28mprint\u001b[39m(\u001b[38;5;124m\"\u001b[39m\u001b[38;5;124mDistribution of cake pieces among 3 people:\u001b[39m\u001b[38;5;124m\"\u001b[39m)\n\u001b[0;32m     27\u001b[0m \u001b[38;5;28;01mfor\u001b[39;00m i, person \u001b[38;5;129;01min\u001b[39;00m \u001b[38;5;28menumerate\u001b[39m(distribution, \u001b[38;5;241m1\u001b[39m):\n",
      "Cell \u001b[1;32mIn [7], line 2\u001b[0m, in \u001b[0;36mcut_cake_for_people\u001b[1;34m(cake_dimensions, chocolate_pieces, num_people)\u001b[0m\n\u001b[0;32m      1\u001b[0m \u001b[38;5;28;01mdef\u001b[39;00m \u001b[38;5;21mcut_cake_for_people\u001b[39m(cake_dimensions, chocolate_pieces, num_people):\n\u001b[1;32m----> 2\u001b[0m     total_chocolate \u001b[38;5;241m=\u001b[39m \u001b[38;5;28;43msum\u001b[39;49m\u001b[43m(\u001b[49m\u001b[43mchocolate_pieces\u001b[49m\u001b[43m)\u001b[49m\n\u001b[0;32m      3\u001b[0m     pieces_per_person \u001b[38;5;241m=\u001b[39m total_chocolate \u001b[38;5;241m/\u001b[39m num_people\n\u001b[0;32m      5\u001b[0m     \u001b[38;5;66;03m# Calculate the number of pieces for each cake for each person\u001b[39;00m\n",
      "\u001b[1;31mTypeError\u001b[0m: unsupported operand type(s) for +: 'int' and 'tuple'"
     ]
    }
   ],
   "source": [
    "def cut_cake_for_people(cake_dimensions, chocolate_pieces, num_people):\n",
    "    total_chocolate = sum(chocolate_pieces)\n",
    "    pieces_per_person = total_chocolate / num_people\n",
    "\n",
    "    # Calculate the number of pieces for each cake for each person\n",
    "    cake_pieces = [piece / pieces_per_person for piece in chocolate_pieces]\n",
    "\n",
    "    # Distribute the pieces to each person\n",
    "    distribution = [[0] * len(cake_dimensions) for _ in range(num_people)]\n",
    "    for i in range(len(cake_dimensions)):\n",
    "        for j in range(int(cake_pieces[i])):  # Convert to int for iteration\n",
    "            for k in range(num_people):\n",
    "                distribution[k][i] += 1\n",
    "\n",
    "    return distribution\n",
    "\n",
    "# Cake dimensions: A = 3, B = 4, C = 5\n",
    "cake_dimensions = [3, 4, 5]\n",
    "# Number of chocolate pieces for each cake: A = (0, 0, 0), B = (1, 1, 1)\n",
    "chocolate_pieces = [(0, 0, 0), (1, 1, 1)]\n",
    "# Number of people\n",
    "num_people = 3\n",
    "\n",
    "# Cut the cakes for 3 people\n",
    "distribution = cut_cake_for_people(cake_dimensions, chocolate_pieces, num_people)\n",
    "print(\"Distribution of cake pieces among 3 people:\")\n",
    "for i, person in enumerate(distribution, 1):\n",
    "    print(f\"Person {i}: {person}\")\n"
   ]
  }
 ],
 "metadata": {
  "kernelspec": {
   "display_name": "Python 3",
   "language": "python",
   "name": "python3"
  },
  "language_info": {
   "codemirror_mode": {
    "name": "ipython",
    "version": 3
   },
   "file_extension": ".py",
   "mimetype": "text/x-python",
   "name": "python",
   "nbconvert_exporter": "python",
   "pygments_lexer": "ipython3",
   "version": "3.10.6"
  }
 },
 "nbformat": 4,
 "nbformat_minor": 2
}
